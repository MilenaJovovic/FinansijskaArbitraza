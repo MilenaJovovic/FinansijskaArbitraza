{
 "cells": [
  {
   "cell_type": "code",
   "execution_count": 1,
   "metadata": {
    "id": "nwXZdHmOnEPT"
   },
   "outputs": [],
   "source": [
    "from sklearn.svm import SVR\n",
    "from sklearn.linear_model import LinearRegression\n",
    "from sklearn.linear_model import Ridge\n",
    "from sklearn.neural_network import MLPRegressor\n",
    "from sklearn.ensemble import RandomForestRegressor\n",
    "import numpy as np\n",
    "import pandas as pd\n",
    "import matplotlib as mpl\n",
    "import matplotlib.pyplot as plt"
   ]
  },
  {
   "cell_type": "code",
   "execution_count": 2,
   "metadata": {
    "id": "dlfJVmd9yVtA"
   },
   "outputs": [],
   "source": [
    "%load_ext autoreload\n",
    "%autoreload 2"
   ]
  },
  {
   "cell_type": "code",
   "execution_count": 3,
   "metadata": {
    "id": "998JsluXOAc5"
   },
   "outputs": [],
   "source": [
    "currencies = ['CAD', 'SWISS', 'CNY', 'GBP', 'INR', 'JPY']"
   ]
  },
  {
   "cell_type": "code",
   "execution_count": 4,
   "metadata": {
    "id": "OO37zGkmPArY"
   },
   "outputs": [],
   "source": [
    "#PPP sredili da izgleda poput fajla GDP.xls, ljepse za obradu\n",
    "PPP = pd.read_excel(\"./PPP.xlsx\")\n",
    "\n",
    "tmp = {'CAD':{}, \n",
    "       'SWISS': {}, \n",
    "       'CNY': {}, \n",
    "       'GBP': {},\n",
    "       'INR':{},\n",
    "       'JPY':{}}\n",
    "\n",
    "for row in PPP.iterrows():\n",
    "    location = row[1]['LOCATION']\n",
    "    time = row[1]['TIME']\n",
    "    value = row[1]['Value']\n",
    "    tmp[location][time] = value\n",
    "\n",
    "PPP = pd.DataFrame(tmp)"
   ]
  },
  {
   "cell_type": "code",
   "execution_count": 5,
   "metadata": {
    "id": "Don9aRx8TQqI"
   },
   "outputs": [],
   "source": [
    "#GDP\n",
    "GDP = pd.read_excel('./GDP.xls', index_col=0)\n",
    "\n",
    "years = []\n",
    "for year in np.arange(1981, 2017):\n",
    "    years.append(str(year))           #ucitala godine\n",
    "\n",
    "GDP = GDP[years].transpose()"
   ]
  },
  {
   "cell_type": "code",
   "execution_count": 6,
   "metadata": {
    "id": "WvAsgRXwV7WS"
   },
   "outputs": [],
   "source": [
    "#Ovdje pretvaram mjesecne kurseve u godisnje i na kraju to ucitam u jedan dataframe jer su svi bili u razlicitim txt fajlovima\n",
    "tmp = {'CAD':{}, \n",
    "       'SWISS': {}, \n",
    "       'CNY': {}, \n",
    "       'GBP': {},\n",
    "       'INR':{},\n",
    "       'JPY':{}}\n",
    "\n",
    "for currency in currencies:\n",
    "    file = open(f'USD_{currency}.txt') \n",
    "\n",
    "    number = []\n",
    "    for f in file:\n",
    "        try:\n",
    "            month, year, value = f.split()\n",
    "            year, value = int(year)%100, float(value) #od godine otkinem zadnje dvije cifre, prilagodjavam da su svi txt fajlovi isti\n",
    "        except:\n",
    "            continue\n",
    "\n",
    "        if year in np.remainder(np.arange(1981, 2017), 100):\n",
    "            if year not in tmp[currency]:\n",
    "                tmp[currency][year] = []\n",
    "\n",
    "            tmp[currency][year].append(value)\n",
    "\n",
    "    \n",
    "for currency in currencies:\n",
    "    for year in tmp[currency]:\n",
    "        tmp[currency][year] = np.mean(tmp[currency][year])\n",
    "\n",
    "exchange_rates = pd.DataFrame(tmp)"
   ]
  },
  {
   "cell_type": "code",
   "execution_count": 7,
   "metadata": {
    "id": "8_fkulBjljtG"
   },
   "outputs": [],
   "source": [
    "def predict(reg, old_y, weights, GDP, PPP):\n",
    "\n",
    "      ret = [] #niz sa predvidjenim exchange rates od [1982 do 2016]\n",
    "\n",
    "      weights = weights*100\n",
    "\n",
    "      weights = np.append(weights, np.expand_dims(old_y, 1), 1)\n",
    "\n",
    "      weights = np.append(weights, np.expand_dims(GDP, 1), 1)\n",
    "      weights = np.append(weights, np.expand_dims(PPP, 1), 1)\n",
    "      \n",
    "      for i in np.arange(2000, 2015):\n",
    "          reg.fit(weights[0:(i - 1981)], old_y[1:(i - 1981)+1]) #treniramo na train podacima \n",
    "          prediction = reg.predict([weights[i - 1981]])         #pokusavamo da predvidimo vrijednost za sledecu godinu, testiramo na test podacima\n",
    "          ret.append(prediction)                                # u ret dodajemo predvidjanja od 2000-2015\n",
    "\n",
    "      return ret, reg\n"
   ]
  },
  {
   "cell_type": "code",
   "execution_count": 8,
   "metadata": {
    "colab": {
     "base_uri": "https://localhost:8080/"
    },
    "id": "XeVU9Y2uVL5t",
    "outputId": "50e4d1b3-3482-4168-a583-77a7f9a6f0a3"
   },
   "outputs": [
    {
     "name": "stdout",
     "output_type": "stream",
     "text": [
      "CAD    LinearRegression          5  0.08\n",
      "CAD    LinearRegression          10 0.07\n",
      "CAD    LinearRegression          20 0.66\n",
      "CAD    LinearRegression          25 1.05\n",
      "CAD    LinearRegression          50 0.08\n",
      "CAD    Ridge                     5  0.08\n",
      "CAD    Ridge                     10 0.08\n",
      "CAD    Ridge                     20 0.07\n",
      "CAD    Ridge                     25 0.09\n",
      "CAD    Ridge                     50 0.07\n",
      "CAD    SVR                       5  0.05\n",
      "CAD    SVR                       10 0.05\n",
      "CAD    SVR                       20 0.05\n",
      "CAD    SVR                       25 0.05\n",
      "CAD    SVR                       50 0.05\n",
      "CAD    RandomForestRegressor     5  0.06\n",
      "CAD    RandomForestRegressor     10 0.06\n",
      "CAD    RandomForestRegressor     20 0.06\n",
      "CAD    RandomForestRegressor     25 0.05\n",
      "CAD    RandomForestRegressor     50 0.06\n",
      "SWISS  LinearRegression          5  0.19\n",
      "SWISS  LinearRegression          10 0.28\n",
      "SWISS  LinearRegression          20 1.21\n",
      "SWISS  LinearRegression          25 4.01\n",
      "SWISS  LinearRegression          50 0.24\n",
      "SWISS  Ridge                     5  0.18\n",
      "SWISS  Ridge                     10 0.25\n",
      "SWISS  Ridge                     20 0.43\n",
      "SWISS  Ridge                     25 0.58\n",
      "SWISS  Ridge                     50 0.21\n",
      "SWISS  SVR                       5  0.24\n",
      "SWISS  SVR                       10 0.24\n",
      "SWISS  SVR                       20 0.24\n",
      "SWISS  SVR                       25 0.24\n",
      "SWISS  SVR                       50 0.24\n",
      "SWISS  RandomForestRegressor     5  0.11\n",
      "SWISS  RandomForestRegressor     10 0.11\n",
      "SWISS  RandomForestRegressor     20 0.13\n",
      "SWISS  RandomForestRegressor     25 0.13\n",
      "SWISS  RandomForestRegressor     50 0.12\n",
      "CNY    LinearRegression          5  3.90\n",
      "CNY    LinearRegression          10 3.92\n",
      "CNY    LinearRegression          20 129.36\n",
      "CNY    LinearRegression          25 12.22\n",
      "CNY    LinearRegression          50 3.83\n",
      "CNY    Ridge                     5  2.70\n",
      "CNY    Ridge                     10 3.35\n",
      "CNY    Ridge                     20 3.44\n",
      "CNY    Ridge                     25 3.53\n",
      "CNY    Ridge                     50 2.77\n",
      "CNY    SVR                       5  1.60\n",
      "CNY    SVR                       10 1.60\n",
      "CNY    SVR                       20 1.60\n",
      "CNY    SVR                       25 1.60\n",
      "CNY    SVR                       50 1.60\n",
      "CNY    RandomForestRegressor     5  1.22\n",
      "CNY    RandomForestRegressor     10 1.21\n",
      "CNY    RandomForestRegressor     20 1.14\n",
      "CNY    RandomForestRegressor     25 1.02\n",
      "CNY    RandomForestRegressor     50 1.01\n",
      "GBP    LinearRegression          5  0.01\n",
      "GBP    LinearRegression          10 0.02\n",
      "GBP    LinearRegression          20 0.03\n",
      "GBP    LinearRegression          25 1.73\n",
      "GBP    LinearRegression          50 0.01\n",
      "GBP    Ridge                     5  0.01\n",
      "GBP    Ridge                     10 0.01\n",
      "GBP    Ridge                     20 0.02\n",
      "GBP    Ridge                     25 0.03\n",
      "GBP    Ridge                     50 0.01\n",
      "GBP    SVR                       5  0.01\n",
      "GBP    SVR                       10 0.01\n",
      "GBP    SVR                       20 0.01\n",
      "GBP    SVR                       25 0.01\n",
      "GBP    SVR                       50 0.01\n",
      "GBP    RandomForestRegressor     5  0.01\n",
      "GBP    RandomForestRegressor     10 0.01\n",
      "GBP    RandomForestRegressor     20 0.01\n",
      "GBP    RandomForestRegressor     25 0.00\n",
      "GBP    RandomForestRegressor     50 0.01\n",
      "INR    LinearRegression          5  112.71\n",
      "INR    LinearRegression          10 107.42\n",
      "INR    LinearRegression          20 154.20\n",
      "INR    LinearRegression          25 292.95\n",
      "INR    LinearRegression          50 100.78\n",
      "INR    Ridge                     5  103.92\n",
      "INR    Ridge                     10 101.31\n",
      "INR    Ridge                     20 115.05\n",
      "INR    Ridge                     25 134.97\n",
      "INR    Ridge                     50 115.96\n",
      "INR    SVR                       5  397.48\n",
      "INR    SVR                       10 397.48\n",
      "INR    SVR                       20 397.48\n",
      "INR    SVR                       25 397.48\n",
      "INR    SVR                       50 397.48\n",
      "INR    RandomForestRegressor     5  100.31\n",
      "INR    RandomForestRegressor     10 104.40\n",
      "INR    RandomForestRegressor     20 115.65\n",
      "INR    RandomForestRegressor     25 145.53\n",
      "INR    RandomForestRegressor     50 158.86\n",
      "JPY    LinearRegression          5  827.76\n",
      "JPY    LinearRegression          10 1638.01\n",
      "JPY    LinearRegression          20 4547.72\n",
      "JPY    LinearRegression          25 60635.90\n",
      "JPY    LinearRegression          50 2016.24\n",
      "JPY    Ridge                     5  842.68\n",
      "JPY    Ridge                     10 1418.79\n",
      "JPY    Ridge                     20 2545.42\n",
      "JPY    Ridge                     25 3369.44\n",
      "JPY    Ridge                     50 1207.64\n",
      "JPY    SVR                       5  529.43\n",
      "JPY    SVR                       10 529.43\n",
      "JPY    SVR                       20 529.43\n",
      "JPY    SVR                       25 529.43\n",
      "JPY    SVR                       50 529.43\n",
      "JPY    RandomForestRegressor     5  318.92\n",
      "JPY    RandomForestRegressor     10 326.97\n",
      "JPY    RandomForestRegressor     20 490.95\n",
      "JPY    RandomForestRegressor     25 529.65\n",
      "JPY    RandomForestRegressor     50 439.55\n"
     ]
    },
    {
     "data": {
      "image/png": "[encoded data removed]",
      "text/plain": [
       "<Figure size 432x288 with 1 Axes>"
      ]
     },
     "metadata": {
      "needs_background": "light"
     },
     "output_type": "display_data"
    },
    {
     "data": {
      "image/png": "[encoded data removed]",
      "text/plain": [
       "<Figure size 432x288 with 1 Axes>"
      ]
     },
     "metadata": {
      "needs_background": "light"
     },
     "output_type": "display_data"
    },
    {
     "data": {
      "image/png": "[encoded data removed]",
      "text/plain": [
       "<Figure size 432x288 with 1 Axes>"
      ]
     },
     "metadata": {
      "needs_background": "light"
     },
     "output_type": "display_data"
    },
    {
     "data": {
      "image/png": "[encoded data removed]",
      "text/plain": [
       "<Figure size 432x288 with 1 Axes>"
      ]
     },
     "metadata": {
      "needs_background": "light"
     },
     "output_type": "display_data"
    },
    {
     "data": {
      "image/png": "[encoded data removed]",
      "text/plain": [
       "<Figure size 432x288 with 1 Axes>"
      ]
     },
     "metadata": {
      "needs_background": "light"
     },
     "output_type": "display_data"
    },
    {
     "data": {
      "image/png": "[encoded data removed]",
      "text/plain": [
       "<Figure size 432x288 with 1 Axes>"
      ]
     },
     "metadata": {
      "needs_background": "light"
     },
     "output_type": "display_data"
    },
    {
     "data": {
      "text/plain": [
       "<Figure size 432x288 with 0 Axes>"
      ]
     },
     "metadata": {},
     "output_type": "display_data"
    }
   ],
   "source": [
    "for currency in currencies:#valuta koju obradjujemo\n",
    "    _GDP = GDP[currency].to_numpy() #uzimamo GDP samo za tu valutu\n",
    "    _PPP = PPP[currency].to_numpy()\n",
    "    _exchange_rates = exchange_rates[currency]\n",
    "\n",
    "    model_names = ['LinearRegression', 'Ridge', 'SVR', 'RandomForestRegressor']\n",
    "    \n",
    "    for network in range(0, 4):#model koji koristimo za regresiju\n",
    "        reg = None\n",
    "        if network == 0:\n",
    "            reg = LinearRegression()\n",
    "        if network == 1:\n",
    "            reg = Ridge(alpha=0.01, normalize=True)\n",
    "        if network == 2:\n",
    "            reg = SVR(gamma='auto', kernel='rbf')\n",
    "        if network == 3:\n",
    "            reg = RandomForestRegressor(n_estimators = 100)\n",
    "\n",
    "        for k in [5, 10, 20, 25, 50]: #broj klastera koje smo koristili prilikom klasifikacije dokumenata\n",
    "            weights = np.load(f'Weights/{k}.npy')\n",
    "            prediction, reg = predict(reg, _exchange_rates[:-1], weights, _GDP[:-1], _PPP[:-1]) \n",
    "            #svi podaci se odnose na godine [1981,2015], predictions se odnosi na [1982, 2016]\n",
    "            if k==5 and network==3:\n",
    "                #reg.feature_importances_\n",
    "                plt.barh(['k1', 'k2', 'k3', 'k4', 'k5', 'old_ex_rate', 'GDP', 'PPP'], reg.feature_importances_)\n",
    "                plt.figure()\n",
    "\n",
    "            error_rate = np.mean((prediction -_exchange_rates[2000-2016:].to_numpy())**2)\n",
    "            print('%-6s %-25s %-2d %.2f'%(currency, model_names[network], k, error_rate))\n",
    "\n",
    "#stampa za svaku valutu i za svaki regresor i za svako k kolika je greska\n",
    "#greska koju racunam je mean squared error\n",
    "    "
   ]
  },
  {
   "cell_type": "code",
   "execution_count": null,
   "metadata": {},
   "outputs": [],
   "source": []
  }
 ],
 "metadata": {
  "colab": {
   "collapsed_sections": [],
   "name": "Micka:D.ipynb",
   "provenance": []
  },
  "kernelspec": {
   "display_name": "Python 3",
   "language": "python",
   "name": "python3"
  },
  "language_info": {
   "codemirror_mode": {
    "name": "ipython",
    "version": 3
   },
   "file_extension": ".py",
   "mimetype": "text/x-python",
   "name": "python",
   "nbconvert_exporter": "python",
   "pygments_lexer": "ipython3",
   "version": "3.8.5"
  }
 },
 "nbformat": 4,
 "nbformat_minor": 1
}
