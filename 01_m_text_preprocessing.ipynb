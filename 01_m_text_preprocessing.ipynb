{
 "cells": [
  {
   "cell_type": "code",
   "execution_count": 3,
   "metadata": {},
   "outputs": [],
   "source": [
    "import numpy as np"
   ]
  },
  {
   "cell_type": "code",
   "execution_count": 4,
   "metadata": {},
   "outputs": [],
   "source": [
    "import json\n",
    "import os.path\n",
    "from os import path\n",
    "import sys\n"
   ]
  },
  {
   "cell_type": "code",
   "execution_count": null,
   "metadata": {},
   "outputs": [],
   "source": []
  },
  {
   "cell_type": "code",
   "execution_count": 5,
   "metadata": {},
   "outputs": [],
   "source": [
    "%load_ext autoreload\n",
    "%autoreload 2"
   ]
  },
  {
   "cell_type": "code",
   "execution_count": 6,
   "metadata": {},
   "outputs": [],
   "source": [
    "#U tekstovima imamo podatke \n",
    "#kao sto su url, datum izdavanja, zvjezdice(*) itd. Osim toga, za jednu godinu imamo\n",
    "#vise fajlova. Sada zelimo da napravimo da nam u jednom fajlu bude jedna godina i da\n",
    "#nam tu ostanu samo clanci (samo body_text)."
   ]
  },
  {
   "cell_type": "code",
   "execution_count": null,
   "metadata": {},
   "outputs": [],
   "source": []
  },
  {
   "cell_type": "code",
   "execution_count": 7,
   "metadata": {},
   "outputs": [],
   "source": [
    "def preprocessing_func():\n",
    "    print('Funkcija se pozvala')\n",
    "    \n",
    "    files = ['1981_1_fulltext.json', '1981_2_fulltext.json', '1982_1_fulltext.json', '1982_2_fulltext.json', '1982_3_fulltext.json', '1983_1_fulltext.json', '1983_2_fulltext.json', '1983_3_fulltext.json', '1984_1_fulltext.json', '1984_2_fulltext.json', '1984_3_fulltext.json', '1985_1_fulltext.json', '1985_2_fulltext.json', '1986_1_fulltext.json', '1986_2_fulltext.json', '1986_3_fulltext.json', '1987_1_fulltext.json', '1987_2_fulltext.json', '1987_3_fulltext.json', '1988_1_fulltext.json', '1988_2_fulltext.json', '1988_3_fulltext.json', '1989_1_fulltext.json', '1989_2_fulltext.json', '1989_3_fulltext.json', '1990_v1_1_fulltext.json', '1990_v1_2_fulltext.json', '1991_1_fulltext.json', '1991_2_fulltext.json', '1992_1_fulltext.json', '1992_2_fulltext.json', '1993_1_fulltext.json', '1993_2_fulltext.json', '1994_1_fulltext.json', '1994_2_fulltext.json', '1995_1_fulltext.json', '1995_2_fulltext.json', '1996_1_fulltext.json', '1996_2_fulltext.json', '1997_1_fulltext.json', '1997_2_fulltext.json', '1998_1_fulltext.json', '1998_2_fulltext.json', '1999_1_fulltext.json', '1999_2_fulltext.json', '2000_1_fulltext.json', '2001_2_fulltext.json', '2002_1_fulltext.json', '2002_2_fulltext.json', '2003_1_fulltext.json', '2003_2_fulltext.json', '2004_1_fulltext.json', '2004_2_fulltext.json', '2005_1_fulltext.json', '2005_2_fulltext.json', '2006_1_fulltext.json', '2006_2_fulltext.json', '2007_1_fulltext.json', '2007_2_fulltext.json', '2008_1_fulltext.json', '2008_2_fulltext.json', '2009_1_fulltext.json', '2009_2_fulltext.json', '2010_1_fulltext.json', '2010_2_fulltext.json', '2011_1_fulltext.json', '2011_2_fulltext.json', '2012_1_fulltext.json', '2012_2_fulltext.json', '2013_1_fulltext.json', '2013_2_fulltext.json', '2014_1_fulltext.json', '2014_2_fulltext.json', '2015_1_fulltext.json', '2015_2_fulltext.json', '2016_1_fulltext.json', '2016_2_fulltext.json', '2017_1_fulltext.json', '2017_2_fulltext.json', '2018_1_fulltext.json', '2018_2_fulltext.json']\n",
    "    \n",
    "    #definisemo tekucu godinu\n",
    "    prev = '1981'\n",
    "    \n",
    "    #ovdje ce da nam budu tekstovi\n",
    "    texts = []\n",
    "    \n",
    "    for file in files:\n",
    "        if file[:4] != prev: #ako prve 4 cifre imena fajla koji sad posmatramo nisu iste kao tekuca godina znaci da smo presli na sledecu godinu\n",
    "            temp = prev\n",
    "            prev = file[:4]\n",
    "            np.save('new_data/' + temp, texts)\n",
    "            \n",
    "            texts = []\n",
    "            \n",
    "            \n",
    "            \n",
    "            \n",
    "        path =  'FullOutput/'    \n",
    "        path += file\n",
    "    with open(path) as fp: \n",
    "        year = json.load(fp)\n",
    "\n",
    "    for url in year.keys():#idemo tekst po tekst\n",
    "        body = year[url][\"body_text\"] #uzmemo body_text\n",
    "        new_body = body.replace(\"*\", \"\") #obrisemo zvjezdice\n",
    "        texts.append(new_body)#dodamo taj novi tekst u niz tekstova za tu godinu\n",
    "            \n",
    "            \n",
    "            \n",
    "      \n",
    "    np.save('new_data/2018', texts)   #sacuvamo poslednju godinu koja jos nije sacuvana "
   ]
  },
  {
   "cell_type": "code",
   "execution_count": null,
   "metadata": {},
   "outputs": [],
   "source": []
  }
 ],
 "metadata": {
  "kernelspec": {
   "display_name": "Python 3",
   "language": "python",
   "name": "python3"
  },
  "language_info": {
   "codemirror_mode": {
    "name": "ipython",
    "version": 3
   },
   "file_extension": ".py",
   "mimetype": "text/x-python",
   "name": "python",
   "nbconvert_exporter": "python",
   "pygments_lexer": "ipython3",
   "version": "3.8.5"
  }
 },
 "nbformat": 4,
 "nbformat_minor": 4
}
